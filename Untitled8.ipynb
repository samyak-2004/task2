{
 "cells": [
  {
   "cell_type": "code",
   "execution_count": null,
   "id": "e2829d6f",
   "metadata": {},
   "outputs": [],
   "source": [
    "import re\n",
    "import pandas as pd\n",
    "import collections\n",
    "import math\n",
    "from scipy.spatial.distance import cosine\n",
    "import os\n",
    "\n",
    "# read a dataset\n",
    "for dirname, _, filenames in os.walk('/input'):\n",
    "    for filename in filenames:\n",
    "        print(os.path.join(dirname, filename))\n",
    "txt =  open('words.txt', 'r')\n",
    "\n",
    "\n",
    "clean_sentences = []\n",
    "\n",
    "\n",
    "unique = {}\n",
    "\n",
    "i = 0\n",
    "\n",
    "# data preparation for all sentence in txt\n",
    "for sentence in txt:\n",
    "    sentence = sentence.lower()  \n",
    "    sentence = re.split('[^a-z]', sentence) # tokenization\n",
    "    sentence = list(filter(None,sentence)) # clear of empty words\n",
    "    \n",
    "    clean_sentences.append(sentence)\n",
    "    \n",
    "    for word in sentence:\n",
    "        if word not in unique:\n",
    "            unique[word] = i\n",
    "            i += 1\n",
    "matrix = pd.DataFrame(unique, range(len(clean_sentences)))\n",
    "row, col = matrix.shape\n",
    "\n",
    "for i in range(row):\n",
    "    for j in range(col):\n",
    "        matrix.iloc[i, j] = 0 \n",
    "\n",
    "for i in range(len(clean_sentences)):\n",
    "    for word in clean_sentences[i]:\n",
    "        matrix.loc[i, word] += 1\n",
    "cosine_distance = list()\n",
    "\n",
    "\n",
    "for i in range(row):\n",
    "    cosine_distance.append(cosine( matrix.loc[0],  matrix.loc[i]))\n",
    "\n",
    "cosine_distanceCopy = list(cosine_distance)\n",
    "\n",
    "closest = [[-1, 0], [-1, 0]]\n",
    "\n",
    "cosine_distanceCopy.remove(min(cosine_distanceCopy))\n",
    "\n",
    "for i in range(2):\n",
    "\n",
    "    closest[i][1] = min(cosine_distanceCopy)\n",
    "    for j in range(len(cosine_distance)):\n",
    "\n",
    "        if closest[i][1] == cosine_distance[j]:\n",
    "            closest[i][0] = j\n",
    "\n",
    "    cosine_distanceCopy.remove(min(cosine_distanceCopy))\n",
    "    \n",
    "closest"
   ]
  },
  {
   "cell_type": "code",
   "execution_count": null,
   "id": "53578f93",
   "metadata": {},
   "outputs": [],
   "source": [
    "import scipy.cluster.hierarchy as model\n",
    "dend_cos = model.dendrogram(model.linkage(matrix, method='complete', metric=\"cosine\"), labels=matrix.index)"
   ]
  },
  {
   "cell_type": "code",
   "execution_count": null,
   "id": "c2512e1c",
   "metadata": {},
   "outputs": [],
   "source": [
    "matrix_tfidf = pd.DataFrame(unique, range(len(clean_sentences)))\n",
    "\n",
    "\n",
    "row, col = matrix_tfidf.shape"
   ]
  },
  {
   "cell_type": "code",
   "execution_count": null,
   "id": "7117ef21",
   "metadata": {},
   "outputs": [],
   "source": [
    "for i in range(row):\n",
    "    for j in range(col):\n",
    "        matrix_tfidf.iloc[i, j] = 0 \n",
    "        \n",
    "for i in range(len(clean_sentences)):\n",
    "    for word in clean_sentences[i]:\n",
    "        counter = collections.Counter(word) # calculate the frequency of all terms in the input array using the Counter method of the collections library\n",
    "        for l in counter:\n",
    "            matrix_tfidf.loc[i, word] = (counter[l]/len(clean_sentences[i]))*(math.log10(len(clean_sentences)/sum([1.0 for l in clean_sentences if word in l])))"
   ]
  },
  {
   "cell_type": "code",
   "execution_count": null,
   "id": "3dd023f7",
   "metadata": {},
   "outputs": [],
   "source": [
    "cosine_tfidf = list()\n",
    "\n",
    "\n",
    "for i in range(row):\n",
    "    cosine_tfidf.append(cosine( matrix_tfidf.loc[0], matrix_tfidf.loc[i]))"
   ]
  },
  {
   "cell_type": "code",
   "execution_count": null,
   "id": "5136e1e4",
   "metadata": {},
   "outputs": [],
   "source": [
    "cosine_distanceCopy = list(cosine_tfidf)\n",
    "# create a list for the closest sentences and its value to the first sentences\n",
    "closest_tfidf = [[-1, 0], [-1, 0]]\n",
    "# delete the minimum value in the copied list since it is equal to 0, which means the distance from the first sentence to the first\n",
    "cosine_distanceCopy.remove(min(cosine_distanceCopy))\n",
    "\n",
    "for i in range(2):\n",
    "    # find the minimum, that is, the closest sentence to the first one in the copied list and add to the list for the closest sentences\n",
    "    closest_tfidf[i][1] = min(cosine_distanceCopy)\n",
    "    for j in range(len(cosine_tfidf)):\n",
    "        # find value of closest sentences in the original cosine list\n",
    "        if closest_tfidf[i][1] == cosine_tfidf[j]:\n",
    "            closest_tfidf[i][0] = j\n",
    "    # remove the found minimum to find the second one using the same method        \n",
    "    cosine_distanceCopy.remove(min(cosine_distanceCopy))\n",
    "    \n",
    "closest_tfidf"
   ]
  },
  {
   "cell_type": "code",
   "execution_count": null,
   "id": "37cb7070",
   "metadata": {},
   "outputs": [],
   "source": [
    "import scipy.cluster.hierarchy as model\n",
    "dend_cos = model.dendrogram(model.linkage(matrix_tfidf, method='complete', metric=\"cosine\"), labels=matrix_tfidf.index)"
   ]
  }
 ],
 "metadata": {
  "kernelspec": {
   "display_name": "Python 3",
   "language": "python",
   "name": "python3"
  },
  "language_info": {
   "codemirror_mode": {
    "name": "ipython",
    "version": 3
   },
   "file_extension": ".py",
   "mimetype": "text/x-python",
   "name": "python",
   "nbconvert_exporter": "python",
   "pygments_lexer": "ipython3",
   "version": "3.8.8"
  }
 },
 "nbformat": 4,
 "nbformat_minor": 5
}
